{
 "cells": [
  {
   "cell_type": "raw",
   "id": "f8e34c69-e753-40ee-8274-77146af8281d",
   "metadata": {},
   "source": [
    "Q1. What is Abstraction in OOps? Explain with an example."
   ]
  },
  {
   "cell_type": "raw",
   "id": "30f5816d-8c59-4ef3-a3c7-ece188081b29",
   "metadata": {},
   "source": [
    "Ans. Abstraction is used to hide the internal functionality of the function from the users. The users only interact with the basic implementation of the function, but inner working is hidden. User is familiar with that \"what function does\" but they don't know \"how it does.\"\n",
    " example - When we use the TV remote to increase the volume. We don't know how pressing a key increases the volume of the TV. We only know to press the \"+\" button to increase the volume."
   ]
  },
  {
   "cell_type": "raw",
   "id": "2cd6a2a0-6eaf-4de8-b769-4ea77d842786",
   "metadata": {},
   "source": [
    "Q2. Differentiate between Abstraction and Encapsulation. Explain with an example."
   ]
  },
  {
   "cell_type": "raw",
   "id": "2073dbfa-45f9-4983-888b-5fbf343dbe33",
   "metadata": {},
   "source": [
    "Ans.Abstraction is a process of hiding the implementation details of a system from the user, and only the functional details will be available to the user end. On the other hand, Encapsulation is a method of wrapping up the data and code acting on the data into a single unit.\n",
    "Abstraction is a feature of OOPs that hides the unnecessary detail but shows the essential information.\n",
    "Encapsulation is also a feature of OOPs. It hides the code and data into a single entity or unit so that the data can be protected from the outside world.\n",
    " abstraction example - When we use the TV remote to increase the volume. We don't know how pressing a key increases the volume of the TV. We only know to press the \"+\" button to increase the volume.\n",
    " encapsulation example-a capsule which is mixed of several medicines."
   ]
  },
  {
   "cell_type": "raw",
   "id": "b6f0ace5-54db-4465-8c3a-dcd51ca6cbb4",
   "metadata": {},
   "source": [
    "Q3. What is abc module in python? Why is it used?"
   ]
  },
  {
   "cell_type": "raw",
   "id": "ec1b29d1-5e99-48f3-87b8-885925900da0",
   "metadata": {},
   "source": [
    "Ans. The 'abc' module in Python library provides the infrastructure for defining custom abstract base classes.\n",
    "'abc' works by marking methods of the base class as abstract. This is done by @absttractmethod decorator. "
   ]
  },
  {
   "cell_type": "raw",
   "id": "5d8358b9-09a6-406e-b7bb-1d7e69701707",
   "metadata": {},
   "source": [
    "Q4. How can we achieve data abstraction?"
   ]
  },
  {
   "cell_type": "raw",
   "id": "bccbc849-2fc1-4240-ab70-9db827d0c052",
   "metadata": {},
   "source": [
    "Ans.Data Abstraction in Python can be achieved through creating abstract classes and inheriting them later"
   ]
  },
  {
   "cell_type": "raw",
   "id": "69256f93-e777-4b8c-9ea0-b9e6854d2a27",
   "metadata": {},
   "source": [
    "Q5. Can we create an instance of an abstract class? Explain your answer."
   ]
  },
  {
   "cell_type": "raw",
   "id": "14122a99-7fe1-46ff-8e0a-769bf709c085",
   "metadata": {},
   "source": [
    "Ans.Abstract classes are not complete, as they may have some methods that are not defined. So we cannot create an instance or object of an abstract class in Python. If we try to instantiate the abstract class, it raises an error."
   ]
  }
 ],
 "metadata": {
  "kernelspec": {
   "display_name": "Python 3 (ipykernel)",
   "language": "python",
   "name": "python3"
  },
  "language_info": {
   "codemirror_mode": {
    "name": "ipython",
    "version": 3
   },
   "file_extension": ".py",
   "mimetype": "text/x-python",
   "name": "python",
   "nbconvert_exporter": "python",
   "pygments_lexer": "ipython3",
   "version": "3.10.8"
  }
 },
 "nbformat": 4,
 "nbformat_minor": 5
}
